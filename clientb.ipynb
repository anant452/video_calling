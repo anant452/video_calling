{
 "cells": [
  {
   "cell_type": "code",
   "execution_count": null,
   "id": "657a468f",
   "metadata": {},
   "outputs": [],
   "source": [
    "#clientb=servera\n",
    "import socket\n",
    "import cv2\n",
    "import pickle\n",
    "import struct\n",
    "import threading\n",
    "import time"
   ]
  },
  {
   "cell_type": "code",
   "execution_count": null,
   "id": "f087ab42",
   "metadata": {},
   "outputs": [],
   "source": [
    "def rec():\n",
    "    s=socket.socket()\n",
    "    sip=\"192.168.56.1\"\n",
    "    sport=2324\n",
    "    s.connect((sip,sport))\n",
    "    s.setsockopt(socket.SOL_SOCKET,socket.SO_REUSEADDR,1)\n",
    "    data=b\"\"\n",
    "    payload=struct.calcsize(\"Q\")\n",
    "    #time.sleep(2)\n",
    "    while True:\n",
    "        #time.sleep(3)\n",
    "        while len(data)<payload:\n",
    "            packet=s.recv(4*1024)\n",
    "            if not packet: break\n",
    "            data+=packet\n",
    "        packed_msg = data[:payload]\n",
    "        data = data[payload:]\n",
    "        msg_size= struct.unpack(\"Q\",packed_msg)[0]\n",
    "    \n",
    "        while len(data)<msg_size:\n",
    "            data +=s.recv(4*1024)\n",
    "        frame_data=data[:msg_size]\n",
    "        data = data[msg_size:]\n",
    "        frame=pickle.loads(frame_data)\n",
    "        cv2.imshow(\"vid2\",frame)\n",
    "        #time.sleep(0.5)\n",
    "        key = cv2.waitKey(1)& 0xFF\n",
    "        if key ==ord('q'):\n",
    "            break\n",
    "    client_socket.close()"
   ]
  },
  {
   "cell_type": "raw",
   "id": "477e0eed",
   "metadata": {},
   "source": [
    "rec()"
   ]
  },
  {
   "cell_type": "code",
   "execution_count": null,
   "id": "419270d5",
   "metadata": {},
   "outputs": [],
   "source": [
    "rec()"
   ]
  },
  {
   "cell_type": "code",
   "execution_count": null,
   "id": "9fad3760",
   "metadata": {},
   "outputs": [],
   "source": []
  }
 ],
 "metadata": {
  "kernelspec": {
   "display_name": "Python 3",
   "language": "python",
   "name": "python3"
  },
  "language_info": {
   "codemirror_mode": {
    "name": "ipython",
    "version": 3
   },
   "file_extension": ".py",
   "mimetype": "text/x-python",
   "name": "python",
   "nbconvert_exporter": "python",
   "pygments_lexer": "ipython3",
   "version": "3.9.5"
  }
 },
 "nbformat": 4,
 "nbformat_minor": 5
}
