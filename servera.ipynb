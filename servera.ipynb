{
 "cells": [
  {
   "cell_type": "code",
   "execution_count": null,
   "id": "43ef2141",
   "metadata": {},
   "outputs": [],
   "source": [
    "#server=clientb\n",
    "import socket\n",
    "import cv2\n",
    "import pickle\n",
    "import struct\n",
    "import threading\n",
    "import time\n"
   ]
  },
  {
   "cell_type": "code",
   "execution_count": null,
   "id": "d0fdea44",
   "metadata": {},
   "outputs": [],
   "source": []
  },
  {
   "cell_type": "code",
   "execution_count": null,
   "id": "53176f2f",
   "metadata": {},
   "outputs": [],
   "source": [
    "def sendd():\n",
    "    \n",
    "    s=socket.socket()\n",
    "    s.setsockopt(socket.SOL_SOCKET,socket.SO_REUSEADDR,1)\n",
    "    port=2324\n",
    "    ip=\"\"\n",
    "    s.bind((ip,port))\n",
    "    s.listen()\n",
    "    time.sleep(2)\n",
    "    '''\n",
    "    s=socket.socket()\n",
    "    sip=\"192.168.56.1\"\n",
    "    sport=2323\n",
    "    s.connect((sip,sport))\n",
    "    s.setsockopt(socket.SOL_SOCKET,socket.SO_REUSEADDR,1)\n",
    "    '''\n",
    "    while True:\n",
    "        #time.sleep(3)\n",
    "        c,add=s.accept()\n",
    "        print(add)\n",
    "        if c:\n",
    "            vid=cv2.VideoCapture(1)\n",
    "            while(vid.isOpened()):\n",
    "                ret,img=vid.read()\n",
    "                a=pickle.dumps(img)\n",
    "                m=struct.pack(\"Q\",len(a))+a\n",
    "                c.sendall(m)\n",
    "                #cv2.imshow(\"vid1\",img)\n",
    "                key=cv2.waitKey(1) & 0xFF\n",
    "                if key == ord('q'):\n",
    "                    c.close()"
   ]
  },
  {
   "cell_type": "code",
   "execution_count": null,
   "id": "46ef0539",
   "metadata": {},
   "outputs": [],
   "source": [
    "sendd()\n",
    "   "
   ]
  },
  {
   "cell_type": "code",
   "execution_count": null,
   "id": "b7098387",
   "metadata": {},
   "outputs": [],
   "source": [
    "'''\n",
    "recvd=threading.Thread(target=recvd)\n",
    "sendd=threading.Thread(target=sendd)\n",
    "recvd.start()\n",
    "#time.sleep(1)\n",
    "sendd.start()\n",
    "'''\n"
   ]
  },
  {
   "cell_type": "code",
   "execution_count": null,
   "id": "5d4649de",
   "metadata": {},
   "outputs": [],
   "source": [
    "#sendd()\n",
    "#recvd()"
   ]
  },
  {
   "cell_type": "code",
   "execution_count": null,
   "id": "40ee4310",
   "metadata": {},
   "outputs": [],
   "source": []
  },
  {
   "cell_type": "code",
   "execution_count": null,
   "id": "734a48a8",
   "metadata": {},
   "outputs": [],
   "source": []
  },
  {
   "cell_type": "code",
   "execution_count": null,
   "id": "1f6a4af8",
   "metadata": {},
   "outputs": [],
   "source": []
  },
  {
   "cell_type": "code",
   "execution_count": null,
   "id": "7b133de6",
   "metadata": {},
   "outputs": [],
   "source": []
  }
 ],
 "metadata": {
  "kernelspec": {
   "display_name": "Python 3",
   "language": "python",
   "name": "python3"
  },
  "language_info": {
   "codemirror_mode": {
    "name": "ipython",
    "version": 3
   },
   "file_extension": ".py",
   "mimetype": "text/x-python",
   "name": "python",
   "nbconvert_exporter": "python",
   "pygments_lexer": "ipython3",
   "version": "3.9.5"
  }
 },
 "nbformat": 4,
 "nbformat_minor": 5
}
